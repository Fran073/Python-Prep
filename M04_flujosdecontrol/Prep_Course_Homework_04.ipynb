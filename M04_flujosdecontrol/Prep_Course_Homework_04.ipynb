{
 "cells": [
  {
   "attachments": {},
   "cell_type": "markdown",
   "metadata": {},
   "source": [
    "## Flujos de Control"
   ]
  },
  {
   "attachments": {},
   "cell_type": "markdown",
   "metadata": {},
   "source": [
    "1) Crear una variable que contenga un elemento del conjunto de números enteros y luego imprimir por pantalla si es mayor o menor a cero"
   ]
  },
  {
   "cell_type": "code",
   "execution_count": 3,
   "metadata": {},
   "outputs": [
    {
     "name": "stdout",
     "output_type": "stream",
     "text": [
      "8  es mayor que cero\n"
     ]
    }
   ],
   "source": [
    "varentero = 8\n",
    "if varentero > 0:\n",
    "    print (varentero, \" es mayor que cero\")\n",
    "else: \n",
    "    print (varentero, \"es menor que cero\")    "
   ]
  },
  {
   "attachments": {},
   "cell_type": "markdown",
   "metadata": {},
   "source": [
    "2) Crear dos variables y un condicional que informe si son del mismo tipo de dato"
   ]
  },
  {
   "cell_type": "code",
   "execution_count": 4,
   "metadata": {},
   "outputs": [
    {
     "name": "stdout",
     "output_type": "stream",
     "text": [
      "son tipos diferentes\n"
     ]
    }
   ],
   "source": [
    "varuno = 8\n",
    "vardos = \"h\"\n",
    "if type (varuno) == type (vardos):\n",
    "    print (\"son iguales los tipos de variables\")\n",
    "else:\n",
    "    print (\"son tipos diferentes\")    "
   ]
  },
  {
   "attachments": {},
   "cell_type": "markdown",
   "metadata": {},
   "source": [
    "3) Para los valores enteros del 1 al 20, imprimir por pantalla si es par o impar"
   ]
  },
  {
   "cell_type": "code",
   "execution_count": 13,
   "metadata": {},
   "outputs": [
    {
     "name": "stdout",
     "output_type": "stream",
     "text": [
      "1  es par\n",
      "2  es impar\n",
      "3  es par\n",
      "4  es impar\n",
      "5  es par\n",
      "6  es impar\n",
      "7  es par\n",
      "8  es impar\n",
      "9  es par\n",
      "10  es impar\n",
      "11  es par\n",
      "12  es impar\n",
      "13  es par\n",
      "14  es impar\n",
      "15  es par\n",
      "16  es impar\n",
      "17  es par\n",
      "18  es impar\n",
      "19  es par\n",
      "20  es impar\n"
     ]
    }
   ],
   "source": [
    "listaenteros = (1,2,3,4,5,6,7,8,9,10,11,12,13,14,15,16,17,18,19,20)\n",
    "i=0\n",
    "while (i < 20):    \n",
    "    if ((listaenteros[i] % 2) != 0): \n",
    "        print (listaenteros[i], \" es par\")\n",
    "    else:\n",
    "        print (listaenteros[i], \" es impar\")\n",
    "    i +=1       "
   ]
  },
  {
   "attachments": {},
   "cell_type": "markdown",
   "metadata": {},
   "source": [
    "4) En un ciclo for mostrar para los valores entre 0 y 5 el resultado de elevarlo a la potencia igual a 3"
   ]
  },
  {
   "cell_type": "code",
   "execution_count": 14,
   "metadata": {},
   "outputs": [
    {
     "name": "stdout",
     "output_type": "stream",
     "text": [
      "0 elevado a la tercera potencia es:  0\n",
      "1 elevado a la tercera potencia es:  1\n",
      "2 elevado a la tercera potencia es:  8\n",
      "3 elevado a la tercera potencia es:  27\n",
      "4 elevado a la tercera potencia es:  64\n",
      "5 elevado a la tercera potencia es:  125\n"
     ]
    }
   ],
   "source": [
    "potencias= (0,1,2,3,4,5)\n",
    "for p in potencias:\n",
    "    print(p, \"elevado a la tercera potencia es: \", p**3)"
   ]
  },
  {
   "attachments": {},
   "cell_type": "markdown",
   "metadata": {},
   "source": [
    "5) Crear una variable que contenga un número entero y realizar un ciclo for la misma cantidad de ciclos"
   ]
  },
  {
   "cell_type": "code",
   "execution_count": 17,
   "metadata": {},
   "outputs": [
    {
     "name": "stdout",
     "output_type": "stream",
     "text": [
      "0\n",
      "1\n",
      "2\n",
      "3\n",
      "4\n",
      "5\n",
      "6\n",
      "7\n",
      "8\n",
      "9\n"
     ]
    }
   ],
   "source": [
    "varciclos=10\n",
    "for i in range(varciclos):\n",
    "    print(i)\n",
    "    "
   ]
  },
  {
   "attachments": {},
   "cell_type": "markdown",
   "metadata": {},
   "source": [
    "6) Utilizar un ciclo while para realizar el factorial de un número guardado en una variable, sólo si la variable contiene un número entero mayor a 0"
   ]
  },
  {
   "cell_type": "code",
   "execution_count": 45,
   "metadata": {},
   "outputs": [
    {
     "name": "stdout",
     "output_type": "stream",
     "text": [
      "El factorial de  22 es:  1124000727777607680000\n"
     ]
    }
   ],
   "source": [
    "factorialnum = 22\n",
    "factorial = 1\n",
    "for i in range(1,factorialnum +1):\n",
    "    factorial = factorial * i\n",
    "print(\"El factorial de \",factorialnum, \"es: \", factorial)     "
   ]
  },
  {
   "attachments": {},
   "cell_type": "markdown",
   "metadata": {},
   "source": [
    "7) Crear un ciclo for dentro de un ciclo while"
   ]
  },
  {
   "cell_type": "code",
   "execution_count": 9,
   "metadata": {},
   "outputs": [
    {
     "name": "stdout",
     "output_type": "stream",
     "text": [
      "suma 27\n",
      "resta 9\n",
      "producto 162\n",
      "cociente 2.0\n",
      "potencia 198359290368\n"
     ]
    }
   ],
   "source": [
    "varcondicion = ['suma','resta','producto','cociente','potencia']\n",
    "a = 18\n",
    "b = 9\n",
    "resulado = 0 \n",
    "contador = 0\n",
    "while  contador < 5:\n",
    "    for i in varcondicion:\n",
    "        if (i == 'cociente') and (b !=0):\n",
    "            resultado = a/b\n",
    "            print (i,resultado)\n",
    "            contador += 1\n",
    "        elif i == 'producto':\n",
    "            resultado = a*b\n",
    "            print (i,resultado)\n",
    "            contador += 1\n",
    "        elif i == 'potencia':\n",
    "            resultado = a**b\n",
    "            print (i,resultado)\n",
    "            contador += 1\n",
    "        elif i == 'suma':\n",
    "            resultado = a+b\n",
    "            print (i,resultado)\n",
    "            contador += 1\n",
    "        else:\n",
    "            resultado = a-b\n",
    "            print (i,resultado)\n",
    "            contador += 1\n",
    "                    \n",
    "            \n",
    "            \n",
    "             \n",
    "             "
   ]
  },
  {
   "attachments": {},
   "cell_type": "markdown",
   "metadata": {},
   "source": [
    "8) Crear un ciclo while dentro de un ciclo for"
   ]
  },
  {
   "cell_type": "code",
   "execution_count": 18,
   "metadata": {},
   "outputs": [
    {
     "name": "stdout",
     "output_type": "stream",
     "text": [
      "trabajar\n",
      "trabajar\n",
      "trabajar\n",
      "trabajar\n",
      "trabajar\n",
      "descansar\n",
      "descansar\n"
     ]
    }
   ],
   "source": [
    "diasdesemana = ('lunes','martes','miercoles','jueves', 'viernes','sabado', 'domingo')\n",
    "for i in diasdesemana:\n",
    "    while ((i != 'sabado') and (i != 'domingo')):\n",
    "        print('trabajar')\n",
    "        break\n",
    "    else:\n",
    "        print ('descansar')\n",
    "                    "
   ]
  },
  {
   "attachments": {},
   "cell_type": "markdown",
   "metadata": {},
   "source": [
    "9) Imprimir los números primos existentes entre 0 y 30"
   ]
  },
  {
   "cell_type": "code",
   "execution_count": 41,
   "metadata": {},
   "outputs": [
    {
     "name": "stdout",
     "output_type": "stream",
     "text": [
      "10 no es primo\n"
     ]
    }
   ],
   "source": [
    "numeroingresado = 10\n",
    "contador = numeroingresado - 1\n",
    "if numeroingresado > 0:\n",
    "    while ((contador > 1) and (numeroingresado % contador != 0)):\n",
    "            contador -= 1\n",
    "    if contador == 1:\n",
    "        print (numeroingresado, \"  es primo\")\n",
    "    elif contador > 1: \n",
    "        print (numeroingresado, \"no es primo\")  \n",
    "elif numeroingresado == 1:\n",
    "    print (\"es el numero uno\")          "
   ]
  },
  {
   "cell_type": "code",
   "execution_count": 45,
   "metadata": {},
   "outputs": [
    {
     "name": "stdout",
     "output_type": "stream",
     "text": [
      "97   es primo\n"
     ]
    }
   ],
   "source": [
    "numeroingresado = 97\n",
    "contador = numeroingresado - 1\n",
    "if numeroingresado == 1:\n",
    "    print (\"es el numero uno\") \n",
    "elif numeroingresado > 0:\n",
    "    while ((contador > 1) and (numeroingresado % contador != 0)):\n",
    "            contador -= 1\n",
    "    if contador == 1:\n",
    "        print (numeroingresado, \"  es primo\")\n",
    "    elif contador > 1: \n",
    "        print (numeroingresado, \"no es primo\")  \n",
    "\n",
    "          "
   ]
  },
  {
   "attachments": {},
   "cell_type": "markdown",
   "metadata": {},
   "source": [
    "10) ¿Se puede mejorar el proceso del punto 9? Utilizar las sentencias break y/ó continue para tal fin"
   ]
  },
  {
   "cell_type": "code",
   "execution_count": 5,
   "metadata": {},
   "outputs": [
    {
     "name": "stdout",
     "output_type": "stream",
     "text": [
      "89 el numero es primo\n"
     ]
    }
   ],
   "source": [
    "numeroingresado = 89\n",
    "contador = numeroingresado - 1\n",
    "if numeroingresado == 1:\n",
    "    print (\"es el numero uno\") \n",
    "elif numeroingresado > 0:\n",
    "    primo = 'el numero es primo'\n",
    "    for i in range(2,numeroingresado):\n",
    "       if (numeroingresado % i) == 0:\n",
    "           primo = \"no es primo\"\n",
    "           break \n",
    "    print (numeroingresado,primo)   \n",
    "   # while ((contador > 1) and (numeroingresado % contador != 0)):\n",
    "   #         contador -= 1\n",
    "   # if contador == 1:\n",
    "   #     print (numeroingresado, \"  es primo\")\n",
    "   # elif contador > 1: \n",
    "   #     print (numeroingresado, \"no es primo\")  \n",
    "\n",
    "          "
   ]
  },
  {
   "attachments": {},
   "cell_type": "markdown",
   "metadata": {},
   "source": [
    "11) En los puntos 9 y 10, se diseño un código que encuentra números primos y además se lo optimizó. ¿Es posible saber en qué medida se optimizó?"
   ]
  },
  {
   "cell_type": "code",
   "execution_count": null,
   "metadata": {},
   "outputs": [],
   "source": [
    "#se optimizo en el uso del tiempo de resolusión de y resulta de esta manera mas simple "
   ]
  },
  {
   "attachments": {},
   "cell_type": "markdown",
   "metadata": {},
   "source": [
    "12) Aplicando continue, armar un ciclo while que solo imprima los valores divisibles por 12, dentro del rango de números de 100 a 300"
   ]
  },
  {
   "cell_type": "code",
   "execution_count": 14,
   "metadata": {},
   "outputs": [
    {
     "name": "stdout",
     "output_type": "stream",
     "text": [
      "108\n",
      "120\n",
      "132\n",
      "144\n",
      "156\n",
      "168\n",
      "180\n",
      "192\n",
      "204\n",
      "216\n",
      "228\n",
      "240\n",
      "252\n",
      "264\n",
      "276\n",
      "288\n",
      "300\n"
     ]
    }
   ],
   "source": [
    "numero = 100\n",
    "while numero < 301:\n",
    "    if (numero % 12) == 0:\n",
    "        print (numero)\n",
    "        numero += 1\n",
    "        continue\n",
    "    else:\n",
    "        numero += 1    \n",
    "        "
   ]
  },
  {
   "attachments": {},
   "cell_type": "markdown",
   "metadata": {},
   "source": [
    "13) Utilizar la función **input()** que permite hacer ingresos por teclado, para encontrar números primos y dar la opción al usario de buscar el siguiente"
   ]
  },
  {
   "cell_type": "code",
   "execution_count": 19,
   "metadata": {},
   "outputs": [
    {
     "name": "stdout",
     "output_type": "stream",
     "text": [
      "9 no es primo\n",
      "5 el numero es primo\n"
     ]
    }
   ],
   "source": [
    "def numeroprimo(numeroingresado):\n",
    "   # numeroingresado = int(input(\"ingrese el numero: \"))\n",
    "    contador = numeroingresado - 1\n",
    "    if numeroingresado == 1:\n",
    "        print (\"es el numero uno\") \n",
    "    elif numeroingresado > 0:\n",
    "        primo = 'el numero es primo'\n",
    "        for i in range(2,numeroingresado):\n",
    "            if (numeroingresado % i) == 0:\n",
    "                primo = \"no es primo\"\n",
    "                break \n",
    "        print (numeroingresado,primo)    \n",
    "\n",
    "#print (\"ingrese un numero:\")\n",
    "numeroprimo(int(input(\"ingrese el numero\")))\n",
    "#print(\"quieres ingresar otro numero? Y/N\")\n",
    "while input(\"quieres ingresar otro numero? Y/N\") == 'y':\n",
    "    numeroprimo(int(input(\"ingrese otro numero\")))\n",
    "             "
   ]
  },
  {
   "attachments": {},
   "cell_type": "markdown",
   "metadata": {},
   "source": [
    "14) Crear un ciclo while que encuentre dentro del rango de 100 a 300 el primer número divisible por 3 y además múltiplo de 6"
   ]
  },
  {
   "cell_type": "code",
   "execution_count": 24,
   "metadata": {},
   "outputs": [
    {
     "name": "stdout",
     "output_type": "stream",
     "text": [
      "102\n",
      "108\n",
      "114\n",
      "120\n",
      "126\n",
      "132\n",
      "138\n",
      "144\n",
      "150\n",
      "156\n",
      "162\n",
      "168\n",
      "174\n",
      "180\n",
      "186\n",
      "192\n",
      "198\n",
      "204\n",
      "210\n",
      "216\n",
      "222\n",
      "228\n",
      "234\n",
      "240\n",
      "246\n",
      "252\n",
      "258\n",
      "264\n",
      "270\n",
      "276\n",
      "282\n",
      "288\n",
      "294\n",
      "300\n"
     ]
    }
   ],
   "source": [
    "menor = 100\n",
    "while menor < 301:\n",
    "    if (menor % 3) == 0:\n",
    "        if (menor // 6 > 0) and (menor % 6 == 0):\n",
    "            print (menor)\n",
    "            #break  con el break activo muestra el primero si no muestra todos los que cumplen la condicion\n",
    "    menor +=1            \n",
    "         "
   ]
  }
 ],
 "metadata": {
  "interpreter": {
   "hash": "c85384e4cb51c8b72350f3a8712cc8351fdc3955e32a27f9b60c6242ab125f01"
  },
  "kernelspec": {
   "display_name": "Python 3 (ipykernel)",
   "language": "python",
   "name": "python3"
  },
  "language_info": {
   "codemirror_mode": {
    "name": "ipython",
    "version": 3
   },
   "file_extension": ".py",
   "mimetype": "text/x-python",
   "name": "python",
   "nbconvert_exporter": "python",
   "pygments_lexer": "ipython3",
   "version": "3.12.1"
  }
 },
 "nbformat": 4,
 "nbformat_minor": 4
}
